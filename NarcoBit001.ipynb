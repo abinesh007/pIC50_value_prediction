{
  "nbformat": 4,
  "nbformat_minor": 0,
  "metadata": {
    "colab": {
      "name": "NarcoBit001.ipynb",
      "provenance": [],
      "collapsed_sections": []
    },
    "kernelspec": {
      "name": "python3",
      "display_name": "Python 3"
    },
    "language_info": {
      "name": "python"
    }
  },
  "cells": [
    {
      "cell_type": "code",
      "metadata": {
        "id": "qeqkXYuA0muA"
      },
      "source": [
        "#mount drive\n",
        "def mount_drive():\n",
        "  from google.colab import drive\n",
        "  drive.mount('/content/gdrive')"
      ],
      "execution_count": 53,
      "outputs": []
    },
    {
      "cell_type": "code",
      "metadata": {
        "id": "-S-PXK3408z5"
      },
      "source": [
        "#installing & importing  libraries\n",
        "def install_download_lib():\n",
        "  #chembl\n",
        "  ! pip install chembl_webresource_client\n",
        "  import pandas as pd\n",
        "  import numpy as np\n",
        "  from chembl_webresource_client.new_client import new_client\n",
        "\n",
        "#install conda\n",
        "  ! wget https://repo.anaconda.com/miniconda/Miniconda3-py37_4.8.2-Linux-x86_64.sh\n",
        "  ! chmod +x Miniconda3-py37_4.8.2-Linux-x86_64.sh\n",
        "  ! bash ./Miniconda3-py37_4.8.2-Linux-x86_64.sh -b -f -p /usr/local\n",
        "  import sys\n",
        "  sys.path.append('/usr/local/lib/python3.7/site-packages/')\n",
        "\n",
        "#install rdkit\n",
        "  ! conda install -c rdkit rdkit -y\n",
        "\n",
        "#import lib\n",
        "  from rdkit import Chem\n",
        "  from rdkit.Chem import Descriptors, Lipinski\n",
        "\n",
        "#Download PaDEL-Descriptor\n",
        "\n",
        "  ! wget https://github.com/dataprofessor/bioinformatics/raw/master/padel.zip\n",
        "  ! wget https://github.com/dataprofessor/bioinformatics/raw/master/padel.sh\n",
        "\n",
        "  ! unzip padel.zip"
      ],
      "execution_count": 54,
      "outputs": []
    },
    {
      "cell_type": "code",
      "metadata": {
        "id": "0YIqEKAg1Huu"
      },
      "source": [
        "#fn to search and lock target\n",
        "def search_target_protein(protein_name='coronavirus'):\n",
        "  target = new_client.target\n",
        "  target_query = target.search(protein_name)\n",
        "  targets = pd.DataFrame.from_dict(target_query)\n",
        "  return targets\n",
        "\n",
        "\n",
        "def select_target_protein(protein_index=4,protein_name='coronavirus'):\n",
        "  targets = search_target_protein(protein_name)\n",
        "  selected_target = targets.target_chembl_id[protein_index]\n",
        "  activity = new_client.activity\n",
        "  res = activity.filter(target_chembl_id=selected_target).filter(standard_type=\"IC50\")\n",
        "  bioactivity_data = pd.DataFrame.from_dict(res)\n",
        "  return  bioactivity_data\n",
        "\n",
        "#fn for cleaning the bioactivity data\n",
        "def select_n_clean_target_protein(protein_index=4,protein_name='coronavirus'):\n",
        "  df=select_target_protein(protein_index,protein_name)\n",
        "  clean=df[df.standard_value.notna()]\n",
        "  return clean"
      ],
      "execution_count": 55,
      "outputs": []
    },
    {
      "cell_type": "code",
      "metadata": {
        "id": "MOp3f3se2kod"
      },
      "source": [
        "#pre-processing of the bioactivity data\n",
        "\n",
        "def preprocess_bioactivity_of_target_protein(protein_index=4,protein_name='coronavirus'):\n",
        "  df= select_n_clean_target_protein(protein_index,protein_name)\n",
        "  bioactivity_class = []\n",
        "  mol_cid = []\n",
        "  canonical_smiles = []\n",
        "  standard_value = []\n",
        "\n",
        "  #active, inactive or intermediate\n",
        "  for i in df.standard_value:\n",
        "    if float(i) >= 10000:\n",
        "      bioactivity_class.append(\"inactive\")\n",
        "    elif float(i) <= 1000:\n",
        "      bioactivity_class.append(\"active\")\n",
        "    else:\n",
        "        bioactivity_class.append(\"intermediate\")\n",
        "  \n",
        "  #molecule_chembl_id\n",
        "  for i in df.molecule_chembl_id:\n",
        "    mol_cid.append(i)\n",
        "  \n",
        "  #smiles\n",
        "  for i in df.canonical_smiles:\n",
        "    canonical_smiles.append(i)\n",
        "  \n",
        "  #std_value\n",
        "  for i in df.standard_value:\n",
        "    standard_value.append(i)\n",
        "  \n",
        "#Combine the 4 lists into a dataframe\n",
        "  selection = ['molecule_chembl_id', 'canonical_smiles', 'standard_value']\n",
        "  final = df[selection]\n",
        "  final['bioactivity_class']=pd.Series(bioactivity_class)\n",
        "  return final"
      ],
      "execution_count": 56,
      "outputs": []
    },
    {
      "cell_type": "code",
      "metadata": {
        "id": "BkaZHYO1dZZr"
      },
      "source": [
        "#Calculate Lipinski descriptors\n",
        "\n",
        "def calculate_lipinski_desc():\n",
        "  sm=preprocess_bioactivity_of_target_protein(protein_index=4,protein_name='coronavirus')\n",
        "  smiles=sm.canonical_smiles\n",
        "  moldata= []\n",
        "  for elem in smiles:\n",
        "    mol=Chem.MolFromSmiles(elem) \n",
        "    moldata.append(mol)\n",
        "  \n",
        "  baseData= np.arange(1,1)\n",
        "  i=0  \n",
        "  for mol in moldata: \n",
        "    desc_MolWt = Descriptors.MolWt(mol)\n",
        "    desc_MolLogP = Descriptors.MolLogP(mol)\n",
        "    desc_NumHDonors = Lipinski.NumHDonors(mol)\n",
        "    desc_NumHAcceptors = Lipinski.NumHAcceptors(mol)\n",
        "    row = np.array([desc_MolWt, desc_MolLogP, desc_NumHDonors, desc_NumHAcceptors])\n",
        "    if(i==0):\n",
        "      baseData=row\n",
        "    else:\n",
        "      baseData=np.vstack([baseData, row])\n",
        "    i=i+1 \n",
        "  columnNames=[\"MW\",\"LogP\",\"NumHDonors\",\"NumHAcceptors\"]   \n",
        "  descriptors = pd.DataFrame(data=baseData,columns=columnNames)\n",
        "  return descriptors"
      ],
      "execution_count": 57,
      "outputs": []
    },
    {
      "cell_type": "code",
      "metadata": {
        "id": "pKJ0s4YybYw5"
      },
      "source": [
        "#combine prep & lip\n",
        "def combine_df(protein_index=4,protein_name='coronavirus'):\n",
        "  prep=preprocess_bioactivity_of_target_protein(protein_index,protein_name)\n",
        "  lip=calculate_lipinski_desc()\n",
        "  comb = pd.concat([prep, lip], axis=1)\n",
        "  return comb\n",
        "\n",
        "#normalize comb\n",
        "def norm_value(input):\n",
        "    norm = []\n",
        "    input['standard_value'] = pd.to_numeric(input['standard_value'])\n",
        "    for i in input['standard_value']:\n",
        "        if i > 100000000:\n",
        "          i = 100000000\n",
        "        norm.append(i)\n",
        "\n",
        "    input['standard_value_norm'] = norm\n",
        "    x = input.drop('standard_value', 1)\n",
        "    return x\n",
        "\n",
        "#IC50 to pIC50\n",
        "def IC50_to_pIC50(input):\n",
        "    pIC50 = []\n",
        "\n",
        "    for i in input['standard_value_norm']:\n",
        "        molar = i*(10**-9) # Converts nM to M\n",
        "        pIC50.append(-np.log10(molar))\n",
        "\n",
        "    input['pIC50'] = pIC50\n",
        "    x = input.drop('standard_value_norm', 1)\n",
        "        \n",
        "    return x"
      ],
      "execution_count": 63,
      "outputs": []
    },
    {
      "cell_type": "code",
      "metadata": {
        "id": "nYcin0HBo5yv"
      },
      "source": [
        "#remove intermediate \n",
        "def remove_intermediate():\n",
        "  a=combine_df()\n",
        "  b=norm_value(a)\n",
        "  c=IC50_to_pIC50(b)\n",
        "  d= c[c.bioactivity_class != 'intermediate']\n",
        "  d.to_csv('bioactivity_final.csv')\n",
        "  return d"
      ],
      "execution_count": 59,
      "outputs": []
    },
    {
      "cell_type": "code",
      "metadata": {
        "id": "LIywWfvOsTrR"
      },
      "source": [
        "#gen molecule.smi\n",
        "def generate_molecule_smi():\n",
        "  d=remove_intermediate()\n",
        "  df=pd.read_csv('bioactivity_final.csv')\n",
        "  selection = ['canonical_smiles','molecule_chembl_id']\n",
        "  df_sel = df[selection]\n",
        "  df_sel.to_csv('molecule.smi', sep='\\t', index=False, header=False)\n",
        "  #Calculate PaDEL descriptors\n",
        "  ! cat padel.sh\n",
        "  ! bash padel.sh\n",
        "  ! ls -l"
      ],
      "execution_count": 60,
      "outputs": []
    },
    {
      "cell_type": "code",
      "metadata": {
        "id": "v3vaIE7NwHxk"
      },
      "source": [
        "#final export of data\n",
        "def final_data_expp():\n",
        "  generate_molecule_smi()\n",
        "  x=pd.read_csv('descriptors_output.csv')\n",
        "  x = x.drop(columns=['Name'])\n",
        "  y= df['pIC50']\n",
        "  dt = pd.concat([x,y], axis=1)\n",
        "  return dt"
      ],
      "execution_count": 61,
      "outputs": []
    },
    {
      "cell_type": "code",
      "metadata": {
        "colab": {
          "base_uri": "https://localhost:8080/",
          "height": 888
        },
        "id": "8vMOzvY4e-Kh",
        "outputId": "629fa775-6c61-46c4-cdf3-6e314a6c7097"
      },
      "source": [
        "#fn calls\n",
        "mount_drive()\n",
        "install_download_lib()\n"
      ],
      "execution_count": 64,
      "outputs": [
        {
          "output_type": "stream",
          "name": "stdout",
          "text": [
            "Drive already mounted at /content/gdrive; to attempt to forcibly remount, call drive.mount(\"/content/gdrive\", force_remount=True).\n",
            "Requirement already satisfied: chembl_webresource_client in /usr/local/lib/python3.7/site-packages (0.10.7)\n",
            "Requirement already satisfied: urllib3 in /usr/local/lib/python3.7/site-packages (from chembl_webresource_client) (1.25.8)\n",
            "Requirement already satisfied: easydict in /usr/local/lib/python3.7/site-packages (from chembl_webresource_client) (1.9)\n",
            "Requirement already satisfied: requests>=2.18.4 in /usr/local/lib/python3.7/site-packages (from chembl_webresource_client) (2.22.0)\n",
            "Requirement already satisfied: requests-cache~=0.7.0 in /usr/local/lib/python3.7/site-packages (from chembl_webresource_client) (0.7.4)\n",
            "Requirement already satisfied: chardet<3.1.0,>=3.0.2 in /usr/local/lib/python3.7/site-packages (from requests>=2.18.4->chembl_webresource_client) (3.0.4)\n",
            "Requirement already satisfied: idna<2.9,>=2.5 in /usr/local/lib/python3.7/site-packages (from requests>=2.18.4->chembl_webresource_client) (2.8)\n",
            "Requirement already satisfied: certifi>=2017.4.17 in /usr/local/lib/python3.7/site-packages (from requests>=2.18.4->chembl_webresource_client) (2021.5.30)\n",
            "Requirement already satisfied: url-normalize<2.0,>=1.4 in /usr/local/lib/python3.7/site-packages (from requests-cache~=0.7.0->chembl_webresource_client) (1.4.3)\n",
            "Requirement already satisfied: itsdangerous>=2.0.1 in /usr/local/lib/python3.7/site-packages (from requests-cache~=0.7.0->chembl_webresource_client) (2.0.1)\n",
            "Requirement already satisfied: attrs<22.0,>=21.2 in /usr/local/lib/python3.7/site-packages (from requests-cache~=0.7.0->chembl_webresource_client) (21.2.0)\n",
            "Requirement already satisfied: pyyaml>=5.4 in /usr/local/lib/python3.7/site-packages (from requests-cache~=0.7.0->chembl_webresource_client) (5.4.1)\n",
            "Requirement already satisfied: six in /usr/local/lib/python3.7/site-packages (from url-normalize<2.0,>=1.4->requests-cache~=0.7.0->chembl_webresource_client) (1.14.0)\n",
            "--2021-09-15 19:18:32--  https://repo.anaconda.com/miniconda/Miniconda3-py37_4.8.2-Linux-x86_64.sh\n",
            "Resolving repo.anaconda.com (repo.anaconda.com)... 104.16.131.3, 104.16.130.3, 2606:4700::6810:8203, ...\n",
            "Connecting to repo.anaconda.com (repo.anaconda.com)|104.16.131.3|:443... connected.\n",
            "HTTP request sent, awaiting response... 200 OK\n",
            "Length: 85055499 (81M) [application/x-sh]\n",
            "Saving to: ‘Miniconda3-py37_4.8.2-Linux-x86_64.sh.8’\n",
            "\n",
            "Miniconda3-py37_4.8 100%[===================>]  81.12M   120MB/s    in 0.7s    \n",
            "\n",
            "2021-09-15 19:18:33 (120 MB/s) - ‘Miniconda3-py37_4.8.2-Linux-x86_64.sh.8’ saved [85055499/85055499]\n",
            "\n",
            "PREFIX=/usr/local\n",
            "Unpacking payload ...\n"
          ]
        },
        {
          "output_type": "error",
          "ename": "KeyboardInterrupt",
          "evalue": "ignored",
          "traceback": [
            "\u001b[0;31m---------------------------------------------------------------------------\u001b[0m",
            "\u001b[0;31mKeyboardInterrupt\u001b[0m                         Traceback (most recent call last)",
            "\u001b[0;32m<ipython-input-64-3dc99559da3c>\u001b[0m in \u001b[0;36m<module>\u001b[0;34m()\u001b[0m\n\u001b[1;32m      1\u001b[0m \u001b[0;31m#fn calls\u001b[0m\u001b[0;34m\u001b[0m\u001b[0;34m\u001b[0m\u001b[0;34m\u001b[0m\u001b[0m\n\u001b[1;32m      2\u001b[0m \u001b[0mmount_drive\u001b[0m\u001b[0;34m(\u001b[0m\u001b[0;34m)\u001b[0m\u001b[0;34m\u001b[0m\u001b[0;34m\u001b[0m\u001b[0m\n\u001b[0;32m----> 3\u001b[0;31m \u001b[0minstall_download_lib\u001b[0m\u001b[0;34m(\u001b[0m\u001b[0;34m)\u001b[0m\u001b[0;34m\u001b[0m\u001b[0;34m\u001b[0m\u001b[0m\n\u001b[0m",
            "\u001b[0;32m<ipython-input-54-70fbf32eeaed>\u001b[0m in \u001b[0;36minstall_download_lib\u001b[0;34m()\u001b[0m\n\u001b[1;32m     10\u001b[0m   \u001b[0mget_ipython\u001b[0m\u001b[0;34m(\u001b[0m\u001b[0;34m)\u001b[0m\u001b[0;34m.\u001b[0m\u001b[0msystem\u001b[0m\u001b[0;34m(\u001b[0m\u001b[0;34m' wget https://repo.anaconda.com/miniconda/Miniconda3-py37_4.8.2-Linux-x86_64.sh'\u001b[0m\u001b[0;34m)\u001b[0m\u001b[0;34m\u001b[0m\u001b[0;34m\u001b[0m\u001b[0m\n\u001b[1;32m     11\u001b[0m   \u001b[0mget_ipython\u001b[0m\u001b[0;34m(\u001b[0m\u001b[0;34m)\u001b[0m\u001b[0;34m.\u001b[0m\u001b[0msystem\u001b[0m\u001b[0;34m(\u001b[0m\u001b[0;34m' chmod +x Miniconda3-py37_4.8.2-Linux-x86_64.sh'\u001b[0m\u001b[0;34m)\u001b[0m\u001b[0;34m\u001b[0m\u001b[0;34m\u001b[0m\u001b[0m\n\u001b[0;32m---> 12\u001b[0;31m   \u001b[0mget_ipython\u001b[0m\u001b[0;34m(\u001b[0m\u001b[0;34m)\u001b[0m\u001b[0;34m.\u001b[0m\u001b[0msystem\u001b[0m\u001b[0;34m(\u001b[0m\u001b[0;34m' bash ./Miniconda3-py37_4.8.2-Linux-x86_64.sh -b -f -p /usr/local'\u001b[0m\u001b[0;34m)\u001b[0m\u001b[0;34m\u001b[0m\u001b[0;34m\u001b[0m\u001b[0m\n\u001b[0m\u001b[1;32m     13\u001b[0m   \u001b[0;32mimport\u001b[0m \u001b[0msys\u001b[0m\u001b[0;34m\u001b[0m\u001b[0;34m\u001b[0m\u001b[0m\n\u001b[1;32m     14\u001b[0m   \u001b[0msys\u001b[0m\u001b[0;34m.\u001b[0m\u001b[0mpath\u001b[0m\u001b[0;34m.\u001b[0m\u001b[0mappend\u001b[0m\u001b[0;34m(\u001b[0m\u001b[0;34m'/usr/local/lib/python3.7/site-packages/'\u001b[0m\u001b[0;34m)\u001b[0m\u001b[0;34m\u001b[0m\u001b[0;34m\u001b[0m\u001b[0m\n",
            "\u001b[0;32m/usr/local/lib/python3.7/dist-packages/google/colab/_shell.py\u001b[0m in \u001b[0;36msystem\u001b[0;34m(self, *args, **kwargs)\u001b[0m\n\u001b[1;32m    100\u001b[0m       \u001b[0mkwargs\u001b[0m\u001b[0;34m.\u001b[0m\u001b[0mupdate\u001b[0m\u001b[0;34m(\u001b[0m\u001b[0;34m{\u001b[0m\u001b[0;34m'also_return_output'\u001b[0m\u001b[0;34m:\u001b[0m \u001b[0;32mTrue\u001b[0m\u001b[0;34m}\u001b[0m\u001b[0;34m)\u001b[0m\u001b[0;34m\u001b[0m\u001b[0;34m\u001b[0m\u001b[0m\n\u001b[1;32m    101\u001b[0m \u001b[0;34m\u001b[0m\u001b[0m\n\u001b[0;32m--> 102\u001b[0;31m     \u001b[0moutput\u001b[0m \u001b[0;34m=\u001b[0m \u001b[0m_system_commands\u001b[0m\u001b[0;34m.\u001b[0m\u001b[0m_system_compat\u001b[0m\u001b[0;34m(\u001b[0m\u001b[0mself\u001b[0m\u001b[0;34m,\u001b[0m \u001b[0;34m*\u001b[0m\u001b[0margs\u001b[0m\u001b[0;34m,\u001b[0m \u001b[0;34m**\u001b[0m\u001b[0mkwargs\u001b[0m\u001b[0;34m)\u001b[0m  \u001b[0;31m# pylint:disable=protected-access\u001b[0m\u001b[0;34m\u001b[0m\u001b[0;34m\u001b[0m\u001b[0m\n\u001b[0m\u001b[1;32m    103\u001b[0m \u001b[0;34m\u001b[0m\u001b[0m\n\u001b[1;32m    104\u001b[0m     \u001b[0;32mif\u001b[0m \u001b[0mpip_warn\u001b[0m\u001b[0;34m:\u001b[0m\u001b[0;34m\u001b[0m\u001b[0;34m\u001b[0m\u001b[0m\n",
            "\u001b[0;32m/usr/local/lib/python3.7/dist-packages/google/colab/_system_commands.py\u001b[0m in \u001b[0;36m_system_compat\u001b[0;34m(shell, cmd, also_return_output)\u001b[0m\n\u001b[1;32m    445\u001b[0m   \u001b[0;31m# stack.\u001b[0m\u001b[0;34m\u001b[0m\u001b[0;34m\u001b[0m\u001b[0;34m\u001b[0m\u001b[0m\n\u001b[1;32m    446\u001b[0m   result = _run_command(\n\u001b[0;32m--> 447\u001b[0;31m       shell.var_expand(cmd, depth=2), clear_streamed_output=False)\n\u001b[0m\u001b[1;32m    448\u001b[0m   \u001b[0mshell\u001b[0m\u001b[0;34m.\u001b[0m\u001b[0muser_ns\u001b[0m\u001b[0;34m[\u001b[0m\u001b[0;34m'_exit_code'\u001b[0m\u001b[0;34m]\u001b[0m \u001b[0;34m=\u001b[0m \u001b[0mresult\u001b[0m\u001b[0;34m.\u001b[0m\u001b[0mreturncode\u001b[0m\u001b[0;34m\u001b[0m\u001b[0;34m\u001b[0m\u001b[0m\n\u001b[1;32m    449\u001b[0m   \u001b[0;32mif\u001b[0m \u001b[0;34m-\u001b[0m\u001b[0mresult\u001b[0m\u001b[0;34m.\u001b[0m\u001b[0mreturncode\u001b[0m \u001b[0;32min\u001b[0m \u001b[0m_INTERRUPTED_SIGNALS\u001b[0m\u001b[0;34m:\u001b[0m\u001b[0;34m\u001b[0m\u001b[0;34m\u001b[0m\u001b[0m\n",
            "\u001b[0;32m/usr/local/lib/python3.7/dist-packages/google/colab/_system_commands.py\u001b[0m in \u001b[0;36m_run_command\u001b[0;34m(cmd, clear_streamed_output)\u001b[0m\n\u001b[1;32m    197\u001b[0m       \u001b[0mos\u001b[0m\u001b[0;34m.\u001b[0m\u001b[0mclose\u001b[0m\u001b[0;34m(\u001b[0m\u001b[0mchild_pty\u001b[0m\u001b[0;34m)\u001b[0m\u001b[0;34m\u001b[0m\u001b[0;34m\u001b[0m\u001b[0m\n\u001b[1;32m    198\u001b[0m \u001b[0;34m\u001b[0m\u001b[0m\n\u001b[0;32m--> 199\u001b[0;31m       \u001b[0;32mreturn\u001b[0m \u001b[0m_monitor_process\u001b[0m\u001b[0;34m(\u001b[0m\u001b[0mparent_pty\u001b[0m\u001b[0;34m,\u001b[0m \u001b[0mepoll\u001b[0m\u001b[0;34m,\u001b[0m \u001b[0mp\u001b[0m\u001b[0;34m,\u001b[0m \u001b[0mcmd\u001b[0m\u001b[0;34m,\u001b[0m \u001b[0mupdate_stdin_widget\u001b[0m\u001b[0;34m)\u001b[0m\u001b[0;34m\u001b[0m\u001b[0;34m\u001b[0m\u001b[0m\n\u001b[0m\u001b[1;32m    200\u001b[0m   \u001b[0;32mfinally\u001b[0m\u001b[0;34m:\u001b[0m\u001b[0;34m\u001b[0m\u001b[0;34m\u001b[0m\u001b[0m\n\u001b[1;32m    201\u001b[0m     \u001b[0mepoll\u001b[0m\u001b[0;34m.\u001b[0m\u001b[0mclose\u001b[0m\u001b[0;34m(\u001b[0m\u001b[0;34m)\u001b[0m\u001b[0;34m\u001b[0m\u001b[0;34m\u001b[0m\u001b[0m\n",
            "\u001b[0;32m/usr/local/lib/python3.7/dist-packages/google/colab/_system_commands.py\u001b[0m in \u001b[0;36m_monitor_process\u001b[0;34m(parent_pty, epoll, p, cmd, update_stdin_widget)\u001b[0m\n\u001b[1;32m    227\u001b[0m   \u001b[0;32mwhile\u001b[0m \u001b[0;32mTrue\u001b[0m\u001b[0;34m:\u001b[0m\u001b[0;34m\u001b[0m\u001b[0;34m\u001b[0m\u001b[0m\n\u001b[1;32m    228\u001b[0m     \u001b[0;32mtry\u001b[0m\u001b[0;34m:\u001b[0m\u001b[0;34m\u001b[0m\u001b[0;34m\u001b[0m\u001b[0m\n\u001b[0;32m--> 229\u001b[0;31m       \u001b[0mresult\u001b[0m \u001b[0;34m=\u001b[0m \u001b[0m_poll_process\u001b[0m\u001b[0;34m(\u001b[0m\u001b[0mparent_pty\u001b[0m\u001b[0;34m,\u001b[0m \u001b[0mepoll\u001b[0m\u001b[0;34m,\u001b[0m \u001b[0mp\u001b[0m\u001b[0;34m,\u001b[0m \u001b[0mcmd\u001b[0m\u001b[0;34m,\u001b[0m \u001b[0mdecoder\u001b[0m\u001b[0;34m,\u001b[0m \u001b[0mstate\u001b[0m\u001b[0;34m)\u001b[0m\u001b[0;34m\u001b[0m\u001b[0;34m\u001b[0m\u001b[0m\n\u001b[0m\u001b[1;32m    230\u001b[0m       \u001b[0;32mif\u001b[0m \u001b[0mresult\u001b[0m \u001b[0;32mis\u001b[0m \u001b[0;32mnot\u001b[0m \u001b[0;32mNone\u001b[0m\u001b[0;34m:\u001b[0m\u001b[0;34m\u001b[0m\u001b[0;34m\u001b[0m\u001b[0m\n\u001b[1;32m    231\u001b[0m         \u001b[0;32mreturn\u001b[0m \u001b[0mresult\u001b[0m\u001b[0;34m\u001b[0m\u001b[0;34m\u001b[0m\u001b[0m\n",
            "\u001b[0;32m/usr/local/lib/python3.7/dist-packages/google/colab/_system_commands.py\u001b[0m in \u001b[0;36m_poll_process\u001b[0;34m(parent_pty, epoll, p, cmd, decoder, state)\u001b[0m\n\u001b[1;32m    274\u001b[0m   \u001b[0moutput_available\u001b[0m \u001b[0;34m=\u001b[0m \u001b[0;32mFalse\u001b[0m\u001b[0;34m\u001b[0m\u001b[0;34m\u001b[0m\u001b[0m\n\u001b[1;32m    275\u001b[0m \u001b[0;34m\u001b[0m\u001b[0m\n\u001b[0;32m--> 276\u001b[0;31m   \u001b[0mevents\u001b[0m \u001b[0;34m=\u001b[0m \u001b[0mepoll\u001b[0m\u001b[0;34m.\u001b[0m\u001b[0mpoll\u001b[0m\u001b[0;34m(\u001b[0m\u001b[0;34m)\u001b[0m\u001b[0;34m\u001b[0m\u001b[0;34m\u001b[0m\u001b[0m\n\u001b[0m\u001b[1;32m    277\u001b[0m   \u001b[0minput_events\u001b[0m \u001b[0;34m=\u001b[0m \u001b[0;34m[\u001b[0m\u001b[0;34m]\u001b[0m\u001b[0;34m\u001b[0m\u001b[0;34m\u001b[0m\u001b[0m\n\u001b[1;32m    278\u001b[0m   \u001b[0;32mfor\u001b[0m \u001b[0m_\u001b[0m\u001b[0;34m,\u001b[0m \u001b[0mevent\u001b[0m \u001b[0;32min\u001b[0m \u001b[0mevents\u001b[0m\u001b[0;34m:\u001b[0m\u001b[0;34m\u001b[0m\u001b[0;34m\u001b[0m\u001b[0m\n",
            "\u001b[0;31mKeyboardInterrupt\u001b[0m: "
          ]
        }
      ]
    },
    {
      "cell_type": "code",
      "metadata": {
        "colab": {
          "base_uri": "https://localhost:8080/",
          "height": 256
        },
        "id": "DRPoelgK5W8f",
        "outputId": "09862d5f-ab5c-4e74-ee6c-992f072af185"
      },
      "source": [
        "search_target_protein()\n",
        "select_target_protein()\n",
        "select_n_clean_target_protein()\n",
        "preprocess_bioactivity_of_target_protein()\n",
        "calculate_lipinski_desc()\n",
        "remove_intermediate()\n",
        "generate_molecule_smi()\n",
        "final_data_expp()"
      ],
      "execution_count": 1,
      "outputs": [
        {
          "output_type": "error",
          "ename": "NameError",
          "evalue": "ignored",
          "traceback": [
            "\u001b[0;31m---------------------------------------------------------------------------\u001b[0m",
            "\u001b[0;31mNameError\u001b[0m                                 Traceback (most recent call last)",
            "\u001b[0;32m<ipython-input-1-473913ac5d53>\u001b[0m in \u001b[0;36m<module>\u001b[0;34m()\u001b[0m\n\u001b[0;32m----> 1\u001b[0;31m \u001b[0msearch_target_protein\u001b[0m\u001b[0;34m(\u001b[0m\u001b[0;34m)\u001b[0m\u001b[0;34m\u001b[0m\u001b[0;34m\u001b[0m\u001b[0m\n\u001b[0m\u001b[1;32m      2\u001b[0m \u001b[0mselect_target_protein\u001b[0m\u001b[0;34m(\u001b[0m\u001b[0;34m)\u001b[0m\u001b[0;34m\u001b[0m\u001b[0;34m\u001b[0m\u001b[0m\n\u001b[1;32m      3\u001b[0m \u001b[0mselect_n_clean_target_protein\u001b[0m\u001b[0;34m(\u001b[0m\u001b[0;34m)\u001b[0m\u001b[0;34m\u001b[0m\u001b[0;34m\u001b[0m\u001b[0m\n\u001b[1;32m      4\u001b[0m \u001b[0mpreprocess_bioactivity_of_target_protein\u001b[0m\u001b[0;34m(\u001b[0m\u001b[0;34m)\u001b[0m\u001b[0;34m\u001b[0m\u001b[0;34m\u001b[0m\u001b[0m\n\u001b[1;32m      5\u001b[0m \u001b[0mcalculate_lipinski_desc\u001b[0m\u001b[0;34m(\u001b[0m\u001b[0;34m)\u001b[0m\u001b[0;34m\u001b[0m\u001b[0;34m\u001b[0m\u001b[0m\n",
            "\u001b[0;31mNameError\u001b[0m: name 'search_target_protein' is not defined"
          ]
        }
      ]
    }
  ]
}